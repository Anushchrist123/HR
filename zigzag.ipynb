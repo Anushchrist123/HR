{
 "cells": [
  {
   "cell_type": "markdown",
   "metadata": {},
   "source": [
    "1. Given an array arr of distinct elements of size n, the task is to rearrange the elements of\n",
    "arr[0] < arr[1] > arr[2] < arr[3] > arr[4] < . . . . >arr[n-2] < arr[n-1] > arr[n].\n",
    "the array in a zig-zag fashion so that the converted array should be in the below form:\n",
    "Input: n = 7, arr[] = {4, 3, 7, 8, 6, 2, 1}\n",
    "Input: n = 5, arr[] = {4, 3, 7, 8, 2}\n",
    "Output: 3 < 7 > 4 < 8 > 2 < 6 > 1 or any arrangement satisfying the condition.\n",
    "Output: 3 < 7 > 4 < 8 > 2 or any arrangement satisfying the condition."
   ]
  },
  {
   "cell_type": "code",
   "execution_count": 7,
   "metadata": {},
   "outputs": [
    {
     "name": "stdout",
     "output_type": "stream",
     "text": [
      "[11, 4, 55]\n",
      "Zigzaw pattern [4, 55, 11]\n"
     ]
    }
   ],
   "source": [
    "n = int(input(\"Enter no of elements to input: \\n\"))\n",
    "c=[]\n",
    "\n",
    "for i in range(n):\n",
    "    a = int(input(\"Enter the elements: \\n\"))\n",
    "    c.append(a)\n",
    "print(c)\n",
    "\n",
    "def zig(arr):\n",
    "    for x in range(len(arr)-1):\n",
    "        if x%2==0:\n",
    "            if arr[x] >= arr[x+1]:\n",
    "                arr[x],arr[x+1] = arr[x+1], arr[x]\n",
    "        else:\n",
    "              if arr[x] <= arr[x+1]:\n",
    "                arr[x],arr[x+1] = arr[x+1], arr[x]\n",
    "    return arr\n",
    "\n",
    "res = zig(c)\n",
    "print(\"Zigzaw pattern\", res)\n",
    "# lskdf"
   ]
  },
  {
   "cell_type": "markdown",
   "metadata": {},
   "source": [
    "Input: n = 5, arr[] = {4, 3, 7, 8, 2}\n",
    "Output: 3 < 7 > 4 < 8 > 2 or any arrangement satisfying the condition."
   ]
  }
 ],
 "metadata": {
  "kernelspec": {
   "display_name": "Python 3",
   "language": "python",
   "name": "python3"
  },
  "language_info": {
   "codemirror_mode": {
    "name": "ipython",
    "version": 3
   },
   "file_extension": ".py",
   "mimetype": "text/x-python",
   "name": "python",
   "nbconvert_exporter": "python",
   "pygments_lexer": "ipython3",
   "version": "3.12.5"
  }
 },
 "nbformat": 4,
 "nbformat_minor": 2
}
